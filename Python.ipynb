{
 "cells": [
  {
   "cell_type": "markdown",
   "id": "46c74100-a13d-4f33-bc63-c394690c3d8a",
   "metadata": {},
   "source": [
    "                                                IMPORTAZIONE LIBRERIE"
   ]
  },
  {
   "cell_type": "code",
   "execution_count": 2,
   "id": "48495c08-b97d-432e-bec3-6f956d50c558",
   "metadata": {},
   "outputs": [],
   "source": [
    "import numpy as np\n",
    "import pandas as pd\n",
    "import seaborn as sns\n",
    "import matplotlib.pyplot as plt"
   ]
  },
  {
   "cell_type": "markdown",
   "id": "016869f3-7586-4185-b63d-f7fe78bb24bc",
   "metadata": {},
   "source": [
    "                                            LETTURA FILE .CSV IN LOCALE"
   ]
  },
  {
   "cell_type": "code",
   "execution_count": 4,
   "id": "d3e61bf2-9338-49a1-8c8f-bac483160ab1",
   "metadata": {},
   "outputs": [],
   "source": [
    "salaries = pd.read_csv ('Datasets\\CSV Tech Salary.csv')\n",
    "currency = pd.read_csv ('Datasets\\Currency Details.csv')\n",
    "emp = pd.read_csv ('Datasets\\Employment Type description.csv')\n",
    "iso = pd.read_csv ('Datasets\\ISO 3166-1 alpha-2.csv')\n",
    "jobs = pd.read_csv ('Datasets\\Jobs Category.csv')"
   ]
  },
  {
   "cell_type": "markdown",
   "id": "0682a164-8d77-42b5-87ed-e80b7cd690ec",
   "metadata": {},
   "source": [
    "                                    OPERAZIONI PER ESPLORARE CONTENUTO DEL DATASET"
   ]
  },
  {
   "cell_type": "code",
   "execution_count": 6,
   "id": "253279c5-b832-4665-9f27-cfea4d44148d",
   "metadata": {},
   "outputs": [
    {
     "data": {
      "text/plain": [
       "(16534, 11)"
      ]
     },
     "execution_count": 6,
     "metadata": {},
     "output_type": "execute_result"
    }
   ],
   "source": [
    "salaries.shape"
   ]
  },
  {
   "cell_type": "code",
   "execution_count": 7,
   "id": "0fecd58d-efdb-43e9-ab93-f5b72b8d3dfc",
   "metadata": {},
   "outputs": [
    {
     "data": {
      "text/plain": [
       "(32, 5)"
      ]
     },
     "execution_count": 7,
     "metadata": {},
     "output_type": "execute_result"
    }
   ],
   "source": [
    "currency.shape"
   ]
  },
  {
   "cell_type": "code",
   "execution_count": 8,
   "id": "97c7d5f1-e5a1-4832-a3cb-6067d56af083",
   "metadata": {},
   "outputs": [
    {
     "data": {
      "text/plain": [
       "(4, 5)"
      ]
     },
     "execution_count": 8,
     "metadata": {},
     "output_type": "execute_result"
    }
   ],
   "source": [
    "emp.shape"
   ]
  },
  {
   "cell_type": "code",
   "execution_count": 9,
   "id": "cbfdd1d1-abd0-44dc-ad65-6580646b87b0",
   "metadata": {},
   "outputs": [
    {
     "data": {
      "text/plain": [
       "(199, 3)"
      ]
     },
     "execution_count": 9,
     "metadata": {},
     "output_type": "execute_result"
    }
   ],
   "source": [
    "iso.shape"
   ]
  },
  {
   "cell_type": "code",
   "execution_count": 10,
   "id": "121103e0-00a3-4ad4-9fba-cc97805a5586",
   "metadata": {},
   "outputs": [
    {
     "data": {
      "text/plain": [
       "(155, 2)"
      ]
     },
     "execution_count": 10,
     "metadata": {},
     "output_type": "execute_result"
    }
   ],
   "source": [
    "jobs.shape"
   ]
  },
  {
   "cell_type": "code",
   "execution_count": 11,
   "id": "2897b692-ed47-40c3-8abf-627ec9fda8ec",
   "metadata": {
    "scrolled": true
   },
   "outputs": [
    {
     "name": "stdout",
     "output_type": "stream",
     "text": [
      "<class 'pandas.core.frame.DataFrame'>\n",
      "RangeIndex: 16534 entries, 0 to 16533\n",
      "Data columns (total 11 columns):\n",
      " #   Column              Non-Null Count  Dtype \n",
      "---  ------              --------------  ----- \n",
      " 0   work_year           16534 non-null  int64 \n",
      " 1   experience_level    16534 non-null  object\n",
      " 2   employment_type     16534 non-null  object\n",
      " 3   job_title           16534 non-null  object\n",
      " 4   salary              16534 non-null  int64 \n",
      " 5   salary_currency     16534 non-null  object\n",
      " 6   salary_in_usd       16534 non-null  int64 \n",
      " 7   employee_residence  16534 non-null  object\n",
      " 8   remote_ratio        16534 non-null  int64 \n",
      " 9   company_location    16534 non-null  object\n",
      " 10  company_size        16534 non-null  object\n",
      "dtypes: int64(4), object(7)\n",
      "memory usage: 1.4+ MB\n"
     ]
    }
   ],
   "source": [
    "salaries.info()"
   ]
  },
  {
   "cell_type": "code",
   "execution_count": 12,
   "id": "0d68d535-5bc2-4fc9-92de-44bf27053d67",
   "metadata": {
    "scrolled": true
   },
   "outputs": [
    {
     "name": "stdout",
     "output_type": "stream",
     "text": [
      "<class 'pandas.core.frame.DataFrame'>\n",
      "RangeIndex: 32 entries, 0 to 31\n",
      "Data columns (total 5 columns):\n",
      " #   Column                Non-Null Count  Dtype  \n",
      "---  ------                --------------  -----  \n",
      " 0   Currency Symbol       32 non-null     object \n",
      " 1   Currency Code         32 non-null     object \n",
      " 2   Currency Name         32 non-null     object \n",
      " 3   Usage Zone            32 non-null     object \n",
      " 4   Exchange Rate to USD  32 non-null     float64\n",
      "dtypes: float64(1), object(4)\n",
      "memory usage: 1.4+ KB\n"
     ]
    }
   ],
   "source": [
    "currency.info()"
   ]
  },
  {
   "cell_type": "code",
   "execution_count": 13,
   "id": "14f1ae1e-2b2e-468e-8844-0e0a2c28c261",
   "metadata": {},
   "outputs": [
    {
     "name": "stdout",
     "output_type": "stream",
     "text": [
      "<class 'pandas.core.frame.DataFrame'>\n",
      "RangeIndex: 4 entries, 0 to 3\n",
      "Data columns (total 5 columns):\n",
      " #   Column       Non-Null Count  Dtype \n",
      "---  ------       --------------  ----- \n",
      " 0   Type Code    4 non-null      object\n",
      " 1   Type Name    4 non-null      object\n",
      " 2   Description  4 non-null      object\n",
      " 3   x            4 non-null      object\n",
      " 4   x.1          3 non-null      object\n",
      "dtypes: object(5)\n",
      "memory usage: 292.0+ bytes\n"
     ]
    }
   ],
   "source": [
    "emp.info()"
   ]
  },
  {
   "cell_type": "code",
   "execution_count": 14,
   "id": "ea219575-b864-43d5-9f67-00562b9e0bd9",
   "metadata": {
    "scrolled": true
   },
   "outputs": [
    {
     "name": "stdout",
     "output_type": "stream",
     "text": [
      "<class 'pandas.core.frame.DataFrame'>\n",
      "RangeIndex: 199 entries, 0 to 198\n",
      "Data columns (total 3 columns):\n",
      " #   Column        Non-Null Count  Dtype \n",
      "---  ------        --------------  ----- \n",
      " 0   Country       199 non-null    object\n",
      " 1   Alpha-2 Code  198 non-null    object\n",
      " 2   Continent     199 non-null    object\n",
      "dtypes: object(3)\n",
      "memory usage: 4.8+ KB\n"
     ]
    }
   ],
   "source": [
    "iso.info()"
   ]
  },
  {
   "cell_type": "code",
   "execution_count": 15,
   "id": "a55cd689-18e3-46cc-836e-df9ebb173451",
   "metadata": {},
   "outputs": [
    {
     "name": "stdout",
     "output_type": "stream",
     "text": [
      "<class 'pandas.core.frame.DataFrame'>\n",
      "RangeIndex: 155 entries, 0 to 154\n",
      "Data columns (total 2 columns):\n",
      " #   Column     Non-Null Count  Dtype \n",
      "---  ------     --------------  ----- \n",
      " 0   Job Title  155 non-null    object\n",
      " 1   Category   155 non-null    object\n",
      "dtypes: object(2)\n",
      "memory usage: 2.6+ KB\n"
     ]
    }
   ],
   "source": [
    "jobs.info()"
   ]
  },
  {
   "cell_type": "code",
   "execution_count": 16,
   "id": "375a36d9-9404-4984-8739-f537017faad4",
   "metadata": {},
   "outputs": [
    {
     "data": {
      "text/plain": [
       "Index(['work_year', 'experience_level', 'employment_type', 'job_title',\n",
       "       'salary', 'salary_currency', 'salary_in_usd', 'employee_residence',\n",
       "       'remote_ratio', 'company_location', 'company_size'],\n",
       "      dtype='object')"
      ]
     },
     "execution_count": 16,
     "metadata": {},
     "output_type": "execute_result"
    }
   ],
   "source": [
    "salaries.columns"
   ]
  },
  {
   "cell_type": "code",
   "execution_count": 17,
   "id": "2c8635ef-e771-4e73-9317-c9e053b586e6",
   "metadata": {
    "scrolled": true
   },
   "outputs": [
    {
     "data": {
      "text/plain": [
       "work_year\n",
       "2023    8519\n",
       "2024    6067\n",
       "2022    1655\n",
       "2021     218\n",
       "2020      75\n",
       "Name: count, dtype: int64"
      ]
     },
     "execution_count": 17,
     "metadata": {},
     "output_type": "execute_result"
    }
   ],
   "source": [
    "salaries['work_year'].value_counts()"
   ]
  },
  {
   "cell_type": "markdown",
   "id": "eef012fe-7975-4e04-9261-03db862323de",
   "metadata": {},
   "source": [
    "                        PRIMA MERGE CON TABELLA 'JOBS' PER ESTRARRE COLONNA 'JOBCATEGORY'"
   ]
  },
  {
   "cell_type": "code",
   "execution_count": 19,
   "id": "0854660a-b272-44a5-8143-c3dcd54d9640",
   "metadata": {
    "scrolled": true
   },
   "outputs": [
    {
     "data": {
      "text/html": [
       "<div>\n",
       "<style scoped>\n",
       "    .dataframe tbody tr th:only-of-type {\n",
       "        vertical-align: middle;\n",
       "    }\n",
       "\n",
       "    .dataframe tbody tr th {\n",
       "        vertical-align: top;\n",
       "    }\n",
       "\n",
       "    .dataframe thead th {\n",
       "        text-align: right;\n",
       "    }\n",
       "</style>\n",
       "<table border=\"1\" class=\"dataframe\">\n",
       "  <thead>\n",
       "    <tr style=\"text-align: right;\">\n",
       "      <th></th>\n",
       "      <th>work_year</th>\n",
       "      <th>experience_level</th>\n",
       "      <th>employment_type</th>\n",
       "      <th>job_title</th>\n",
       "      <th>salary</th>\n",
       "      <th>salary_currency</th>\n",
       "      <th>salary_in_usd</th>\n",
       "      <th>employee_residence</th>\n",
       "      <th>remote_ratio</th>\n",
       "      <th>company_location</th>\n",
       "      <th>company_size</th>\n",
       "      <th>Job Title</th>\n",
       "      <th>Category</th>\n",
       "    </tr>\n",
       "  </thead>\n",
       "  <tbody>\n",
       "    <tr>\n",
       "      <th>0</th>\n",
       "      <td>2024</td>\n",
       "      <td>SE</td>\n",
       "      <td>FT</td>\n",
       "      <td>AI Engineer</td>\n",
       "      <td>202730</td>\n",
       "      <td>USD</td>\n",
       "      <td>202730</td>\n",
       "      <td>US</td>\n",
       "      <td>0</td>\n",
       "      <td>US</td>\n",
       "      <td>M</td>\n",
       "      <td>AI Engineer</td>\n",
       "      <td>AI</td>\n",
       "    </tr>\n",
       "    <tr>\n",
       "      <th>1</th>\n",
       "      <td>2024</td>\n",
       "      <td>SE</td>\n",
       "      <td>FT</td>\n",
       "      <td>AI Engineer</td>\n",
       "      <td>92118</td>\n",
       "      <td>USD</td>\n",
       "      <td>92118</td>\n",
       "      <td>US</td>\n",
       "      <td>0</td>\n",
       "      <td>US</td>\n",
       "      <td>M</td>\n",
       "      <td>AI Engineer</td>\n",
       "      <td>AI</td>\n",
       "    </tr>\n",
       "    <tr>\n",
       "      <th>2</th>\n",
       "      <td>2024</td>\n",
       "      <td>SE</td>\n",
       "      <td>FT</td>\n",
       "      <td>Data Engineer</td>\n",
       "      <td>130500</td>\n",
       "      <td>USD</td>\n",
       "      <td>130500</td>\n",
       "      <td>US</td>\n",
       "      <td>0</td>\n",
       "      <td>US</td>\n",
       "      <td>M</td>\n",
       "      <td>Data Engineer</td>\n",
       "      <td>Data</td>\n",
       "    </tr>\n",
       "    <tr>\n",
       "      <th>3</th>\n",
       "      <td>2024</td>\n",
       "      <td>SE</td>\n",
       "      <td>FT</td>\n",
       "      <td>Data Engineer</td>\n",
       "      <td>96000</td>\n",
       "      <td>USD</td>\n",
       "      <td>96000</td>\n",
       "      <td>US</td>\n",
       "      <td>0</td>\n",
       "      <td>US</td>\n",
       "      <td>M</td>\n",
       "      <td>Data Engineer</td>\n",
       "      <td>Data</td>\n",
       "    </tr>\n",
       "    <tr>\n",
       "      <th>4</th>\n",
       "      <td>2024</td>\n",
       "      <td>SE</td>\n",
       "      <td>FT</td>\n",
       "      <td>Machine Learning Engineer</td>\n",
       "      <td>190000</td>\n",
       "      <td>USD</td>\n",
       "      <td>190000</td>\n",
       "      <td>US</td>\n",
       "      <td>0</td>\n",
       "      <td>US</td>\n",
       "      <td>M</td>\n",
       "      <td>Machine Learning Engineer</td>\n",
       "      <td>AI</td>\n",
       "    </tr>\n",
       "    <tr>\n",
       "      <th>...</th>\n",
       "      <td>...</td>\n",
       "      <td>...</td>\n",
       "      <td>...</td>\n",
       "      <td>...</td>\n",
       "      <td>...</td>\n",
       "      <td>...</td>\n",
       "      <td>...</td>\n",
       "      <td>...</td>\n",
       "      <td>...</td>\n",
       "      <td>...</td>\n",
       "      <td>...</td>\n",
       "      <td>...</td>\n",
       "      <td>...</td>\n",
       "    </tr>\n",
       "    <tr>\n",
       "      <th>16529</th>\n",
       "      <td>2020</td>\n",
       "      <td>SE</td>\n",
       "      <td>FT</td>\n",
       "      <td>Data Scientist</td>\n",
       "      <td>412000</td>\n",
       "      <td>USD</td>\n",
       "      <td>412000</td>\n",
       "      <td>US</td>\n",
       "      <td>100</td>\n",
       "      <td>US</td>\n",
       "      <td>L</td>\n",
       "      <td>Data Scientist</td>\n",
       "      <td>Data</td>\n",
       "    </tr>\n",
       "    <tr>\n",
       "      <th>16530</th>\n",
       "      <td>2021</td>\n",
       "      <td>MI</td>\n",
       "      <td>FT</td>\n",
       "      <td>Principal Data Scientist</td>\n",
       "      <td>151000</td>\n",
       "      <td>USD</td>\n",
       "      <td>151000</td>\n",
       "      <td>US</td>\n",
       "      <td>100</td>\n",
       "      <td>US</td>\n",
       "      <td>L</td>\n",
       "      <td>Principal Data Scientist</td>\n",
       "      <td>Data</td>\n",
       "    </tr>\n",
       "    <tr>\n",
       "      <th>16531</th>\n",
       "      <td>2020</td>\n",
       "      <td>EN</td>\n",
       "      <td>FT</td>\n",
       "      <td>Data Scientist</td>\n",
       "      <td>105000</td>\n",
       "      <td>USD</td>\n",
       "      <td>105000</td>\n",
       "      <td>US</td>\n",
       "      <td>100</td>\n",
       "      <td>US</td>\n",
       "      <td>S</td>\n",
       "      <td>Data Scientist</td>\n",
       "      <td>Data</td>\n",
       "    </tr>\n",
       "    <tr>\n",
       "      <th>16532</th>\n",
       "      <td>2020</td>\n",
       "      <td>EN</td>\n",
       "      <td>CT</td>\n",
       "      <td>Business Data Analyst</td>\n",
       "      <td>100000</td>\n",
       "      <td>USD</td>\n",
       "      <td>100000</td>\n",
       "      <td>US</td>\n",
       "      <td>100</td>\n",
       "      <td>US</td>\n",
       "      <td>L</td>\n",
       "      <td>Business Data Analyst</td>\n",
       "      <td>Business Intelligence</td>\n",
       "    </tr>\n",
       "    <tr>\n",
       "      <th>16533</th>\n",
       "      <td>2021</td>\n",
       "      <td>SE</td>\n",
       "      <td>FT</td>\n",
       "      <td>Data Science Manager</td>\n",
       "      <td>7000000</td>\n",
       "      <td>INR</td>\n",
       "      <td>94665</td>\n",
       "      <td>IN</td>\n",
       "      <td>50</td>\n",
       "      <td>IN</td>\n",
       "      <td>L</td>\n",
       "      <td>Data Science Manager</td>\n",
       "      <td>Data</td>\n",
       "    </tr>\n",
       "  </tbody>\n",
       "</table>\n",
       "<p>16534 rows × 13 columns</p>\n",
       "</div>"
      ],
      "text/plain": [
       "       work_year experience_level employment_type                  job_title  \\\n",
       "0           2024               SE              FT                AI Engineer   \n",
       "1           2024               SE              FT                AI Engineer   \n",
       "2           2024               SE              FT              Data Engineer   \n",
       "3           2024               SE              FT              Data Engineer   \n",
       "4           2024               SE              FT  Machine Learning Engineer   \n",
       "...          ...              ...             ...                        ...   \n",
       "16529       2020               SE              FT             Data Scientist   \n",
       "16530       2021               MI              FT   Principal Data Scientist   \n",
       "16531       2020               EN              FT             Data Scientist   \n",
       "16532       2020               EN              CT      Business Data Analyst   \n",
       "16533       2021               SE              FT       Data Science Manager   \n",
       "\n",
       "        salary salary_currency  salary_in_usd employee_residence  \\\n",
       "0       202730             USD         202730                 US   \n",
       "1        92118             USD          92118                 US   \n",
       "2       130500             USD         130500                 US   \n",
       "3        96000             USD          96000                 US   \n",
       "4       190000             USD         190000                 US   \n",
       "...        ...             ...            ...                ...   \n",
       "16529   412000             USD         412000                 US   \n",
       "16530   151000             USD         151000                 US   \n",
       "16531   105000             USD         105000                 US   \n",
       "16532   100000             USD         100000                 US   \n",
       "16533  7000000             INR          94665                 IN   \n",
       "\n",
       "       remote_ratio company_location company_size                  Job Title  \\\n",
       "0                 0               US            M                AI Engineer   \n",
       "1                 0               US            M                AI Engineer   \n",
       "2                 0               US            M              Data Engineer   \n",
       "3                 0               US            M              Data Engineer   \n",
       "4                 0               US            M  Machine Learning Engineer   \n",
       "...             ...              ...          ...                        ...   \n",
       "16529           100               US            L             Data Scientist   \n",
       "16530           100               US            L   Principal Data Scientist   \n",
       "16531           100               US            S             Data Scientist   \n",
       "16532           100               US            L      Business Data Analyst   \n",
       "16533            50               IN            L       Data Science Manager   \n",
       "\n",
       "                    Category  \n",
       "0                         AI  \n",
       "1                         AI  \n",
       "2                       Data  \n",
       "3                       Data  \n",
       "4                         AI  \n",
       "...                      ...  \n",
       "16529                   Data  \n",
       "16530                   Data  \n",
       "16531                   Data  \n",
       "16532  Business Intelligence  \n",
       "16533                   Data  \n",
       "\n",
       "[16534 rows x 13 columns]"
      ]
     },
     "execution_count": 19,
     "metadata": {},
     "output_type": "execute_result"
    }
   ],
   "source": [
    "x = salaries.merge (jobs, how = 'left', left_on = \"job_title\", right_on = \"Job Title\")\n",
    "x"
   ]
  },
  {
   "cell_type": "markdown",
   "id": "257f3f95-1e3d-4fe3-8435-902932bee717",
   "metadata": {},
   "source": [
    "                        SECONDA MERGE CON TABELLA 'ISO' PER ESTRARRE COLONNE 'COUNTRY' E 'CONTINENT'"
   ]
  },
  {
   "cell_type": "code",
   "execution_count": 21,
   "id": "0baa3553-e75e-4806-b12b-e6c2e184b678",
   "metadata": {
    "scrolled": true
   },
   "outputs": [
    {
     "data": {
      "text/html": [
       "<div>\n",
       "<style scoped>\n",
       "    .dataframe tbody tr th:only-of-type {\n",
       "        vertical-align: middle;\n",
       "    }\n",
       "\n",
       "    .dataframe tbody tr th {\n",
       "        vertical-align: top;\n",
       "    }\n",
       "\n",
       "    .dataframe thead th {\n",
       "        text-align: right;\n",
       "    }\n",
       "</style>\n",
       "<table border=\"1\" class=\"dataframe\">\n",
       "  <thead>\n",
       "    <tr style=\"text-align: right;\">\n",
       "      <th></th>\n",
       "      <th>work_year</th>\n",
       "      <th>experience_level</th>\n",
       "      <th>employment_type</th>\n",
       "      <th>job_title</th>\n",
       "      <th>salary</th>\n",
       "      <th>salary_currency</th>\n",
       "      <th>salary_in_usd</th>\n",
       "      <th>employee_residence</th>\n",
       "      <th>remote_ratio</th>\n",
       "      <th>company_location</th>\n",
       "      <th>company_size</th>\n",
       "      <th>Job Title</th>\n",
       "      <th>Category</th>\n",
       "      <th>Country</th>\n",
       "      <th>Alpha-2 Code</th>\n",
       "      <th>Continent</th>\n",
       "    </tr>\n",
       "  </thead>\n",
       "  <tbody>\n",
       "    <tr>\n",
       "      <th>0</th>\n",
       "      <td>2024</td>\n",
       "      <td>SE</td>\n",
       "      <td>FT</td>\n",
       "      <td>AI Engineer</td>\n",
       "      <td>202730</td>\n",
       "      <td>USD</td>\n",
       "      <td>202730</td>\n",
       "      <td>US</td>\n",
       "      <td>0</td>\n",
       "      <td>US</td>\n",
       "      <td>M</td>\n",
       "      <td>AI Engineer</td>\n",
       "      <td>AI</td>\n",
       "      <td>United States</td>\n",
       "      <td>US</td>\n",
       "      <td>North America</td>\n",
       "    </tr>\n",
       "    <tr>\n",
       "      <th>1</th>\n",
       "      <td>2024</td>\n",
       "      <td>SE</td>\n",
       "      <td>FT</td>\n",
       "      <td>AI Engineer</td>\n",
       "      <td>92118</td>\n",
       "      <td>USD</td>\n",
       "      <td>92118</td>\n",
       "      <td>US</td>\n",
       "      <td>0</td>\n",
       "      <td>US</td>\n",
       "      <td>M</td>\n",
       "      <td>AI Engineer</td>\n",
       "      <td>AI</td>\n",
       "      <td>United States</td>\n",
       "      <td>US</td>\n",
       "      <td>North America</td>\n",
       "    </tr>\n",
       "    <tr>\n",
       "      <th>2</th>\n",
       "      <td>2024</td>\n",
       "      <td>SE</td>\n",
       "      <td>FT</td>\n",
       "      <td>Data Engineer</td>\n",
       "      <td>130500</td>\n",
       "      <td>USD</td>\n",
       "      <td>130500</td>\n",
       "      <td>US</td>\n",
       "      <td>0</td>\n",
       "      <td>US</td>\n",
       "      <td>M</td>\n",
       "      <td>Data Engineer</td>\n",
       "      <td>Data</td>\n",
       "      <td>United States</td>\n",
       "      <td>US</td>\n",
       "      <td>North America</td>\n",
       "    </tr>\n",
       "    <tr>\n",
       "      <th>3</th>\n",
       "      <td>2024</td>\n",
       "      <td>SE</td>\n",
       "      <td>FT</td>\n",
       "      <td>Data Engineer</td>\n",
       "      <td>96000</td>\n",
       "      <td>USD</td>\n",
       "      <td>96000</td>\n",
       "      <td>US</td>\n",
       "      <td>0</td>\n",
       "      <td>US</td>\n",
       "      <td>M</td>\n",
       "      <td>Data Engineer</td>\n",
       "      <td>Data</td>\n",
       "      <td>United States</td>\n",
       "      <td>US</td>\n",
       "      <td>North America</td>\n",
       "    </tr>\n",
       "    <tr>\n",
       "      <th>4</th>\n",
       "      <td>2024</td>\n",
       "      <td>SE</td>\n",
       "      <td>FT</td>\n",
       "      <td>Machine Learning Engineer</td>\n",
       "      <td>190000</td>\n",
       "      <td>USD</td>\n",
       "      <td>190000</td>\n",
       "      <td>US</td>\n",
       "      <td>0</td>\n",
       "      <td>US</td>\n",
       "      <td>M</td>\n",
       "      <td>Machine Learning Engineer</td>\n",
       "      <td>AI</td>\n",
       "      <td>United States</td>\n",
       "      <td>US</td>\n",
       "      <td>North America</td>\n",
       "    </tr>\n",
       "    <tr>\n",
       "      <th>...</th>\n",
       "      <td>...</td>\n",
       "      <td>...</td>\n",
       "      <td>...</td>\n",
       "      <td>...</td>\n",
       "      <td>...</td>\n",
       "      <td>...</td>\n",
       "      <td>...</td>\n",
       "      <td>...</td>\n",
       "      <td>...</td>\n",
       "      <td>...</td>\n",
       "      <td>...</td>\n",
       "      <td>...</td>\n",
       "      <td>...</td>\n",
       "      <td>...</td>\n",
       "      <td>...</td>\n",
       "      <td>...</td>\n",
       "    </tr>\n",
       "    <tr>\n",
       "      <th>16529</th>\n",
       "      <td>2020</td>\n",
       "      <td>SE</td>\n",
       "      <td>FT</td>\n",
       "      <td>Data Scientist</td>\n",
       "      <td>412000</td>\n",
       "      <td>USD</td>\n",
       "      <td>412000</td>\n",
       "      <td>US</td>\n",
       "      <td>100</td>\n",
       "      <td>US</td>\n",
       "      <td>L</td>\n",
       "      <td>Data Scientist</td>\n",
       "      <td>Data</td>\n",
       "      <td>United States</td>\n",
       "      <td>US</td>\n",
       "      <td>North America</td>\n",
       "    </tr>\n",
       "    <tr>\n",
       "      <th>16530</th>\n",
       "      <td>2021</td>\n",
       "      <td>MI</td>\n",
       "      <td>FT</td>\n",
       "      <td>Principal Data Scientist</td>\n",
       "      <td>151000</td>\n",
       "      <td>USD</td>\n",
       "      <td>151000</td>\n",
       "      <td>US</td>\n",
       "      <td>100</td>\n",
       "      <td>US</td>\n",
       "      <td>L</td>\n",
       "      <td>Principal Data Scientist</td>\n",
       "      <td>Data</td>\n",
       "      <td>United States</td>\n",
       "      <td>US</td>\n",
       "      <td>North America</td>\n",
       "    </tr>\n",
       "    <tr>\n",
       "      <th>16531</th>\n",
       "      <td>2020</td>\n",
       "      <td>EN</td>\n",
       "      <td>FT</td>\n",
       "      <td>Data Scientist</td>\n",
       "      <td>105000</td>\n",
       "      <td>USD</td>\n",
       "      <td>105000</td>\n",
       "      <td>US</td>\n",
       "      <td>100</td>\n",
       "      <td>US</td>\n",
       "      <td>S</td>\n",
       "      <td>Data Scientist</td>\n",
       "      <td>Data</td>\n",
       "      <td>United States</td>\n",
       "      <td>US</td>\n",
       "      <td>North America</td>\n",
       "    </tr>\n",
       "    <tr>\n",
       "      <th>16532</th>\n",
       "      <td>2020</td>\n",
       "      <td>EN</td>\n",
       "      <td>CT</td>\n",
       "      <td>Business Data Analyst</td>\n",
       "      <td>100000</td>\n",
       "      <td>USD</td>\n",
       "      <td>100000</td>\n",
       "      <td>US</td>\n",
       "      <td>100</td>\n",
       "      <td>US</td>\n",
       "      <td>L</td>\n",
       "      <td>Business Data Analyst</td>\n",
       "      <td>Business Intelligence</td>\n",
       "      <td>United States</td>\n",
       "      <td>US</td>\n",
       "      <td>North America</td>\n",
       "    </tr>\n",
       "    <tr>\n",
       "      <th>16533</th>\n",
       "      <td>2021</td>\n",
       "      <td>SE</td>\n",
       "      <td>FT</td>\n",
       "      <td>Data Science Manager</td>\n",
       "      <td>7000000</td>\n",
       "      <td>INR</td>\n",
       "      <td>94665</td>\n",
       "      <td>IN</td>\n",
       "      <td>50</td>\n",
       "      <td>IN</td>\n",
       "      <td>L</td>\n",
       "      <td>Data Science Manager</td>\n",
       "      <td>Data</td>\n",
       "      <td>India</td>\n",
       "      <td>IN</td>\n",
       "      <td>Asia</td>\n",
       "    </tr>\n",
       "  </tbody>\n",
       "</table>\n",
       "<p>16534 rows × 16 columns</p>\n",
       "</div>"
      ],
      "text/plain": [
       "       work_year experience_level employment_type                  job_title  \\\n",
       "0           2024               SE              FT                AI Engineer   \n",
       "1           2024               SE              FT                AI Engineer   \n",
       "2           2024               SE              FT              Data Engineer   \n",
       "3           2024               SE              FT              Data Engineer   \n",
       "4           2024               SE              FT  Machine Learning Engineer   \n",
       "...          ...              ...             ...                        ...   \n",
       "16529       2020               SE              FT             Data Scientist   \n",
       "16530       2021               MI              FT   Principal Data Scientist   \n",
       "16531       2020               EN              FT             Data Scientist   \n",
       "16532       2020               EN              CT      Business Data Analyst   \n",
       "16533       2021               SE              FT       Data Science Manager   \n",
       "\n",
       "        salary salary_currency  salary_in_usd employee_residence  \\\n",
       "0       202730             USD         202730                 US   \n",
       "1        92118             USD          92118                 US   \n",
       "2       130500             USD         130500                 US   \n",
       "3        96000             USD          96000                 US   \n",
       "4       190000             USD         190000                 US   \n",
       "...        ...             ...            ...                ...   \n",
       "16529   412000             USD         412000                 US   \n",
       "16530   151000             USD         151000                 US   \n",
       "16531   105000             USD         105000                 US   \n",
       "16532   100000             USD         100000                 US   \n",
       "16533  7000000             INR          94665                 IN   \n",
       "\n",
       "       remote_ratio company_location company_size                  Job Title  \\\n",
       "0                 0               US            M                AI Engineer   \n",
       "1                 0               US            M                AI Engineer   \n",
       "2                 0               US            M              Data Engineer   \n",
       "3                 0               US            M              Data Engineer   \n",
       "4                 0               US            M  Machine Learning Engineer   \n",
       "...             ...              ...          ...                        ...   \n",
       "16529           100               US            L             Data Scientist   \n",
       "16530           100               US            L   Principal Data Scientist   \n",
       "16531           100               US            S             Data Scientist   \n",
       "16532           100               US            L      Business Data Analyst   \n",
       "16533            50               IN            L       Data Science Manager   \n",
       "\n",
       "                    Category        Country Alpha-2 Code      Continent  \n",
       "0                         AI  United States           US  North America  \n",
       "1                         AI  United States           US  North America  \n",
       "2                       Data  United States           US  North America  \n",
       "3                       Data  United States           US  North America  \n",
       "4                         AI  United States           US  North America  \n",
       "...                      ...            ...          ...            ...  \n",
       "16529                   Data  United States           US  North America  \n",
       "16530                   Data  United States           US  North America  \n",
       "16531                   Data  United States           US  North America  \n",
       "16532  Business Intelligence  United States           US  North America  \n",
       "16533                   Data          India           IN           Asia  \n",
       "\n",
       "[16534 rows x 16 columns]"
      ]
     },
     "execution_count": 21,
     "metadata": {},
     "output_type": "execute_result"
    }
   ],
   "source": [
    "salary = x.merge (iso, how = 'left', left_on = \"company_location\", right_on = \"Alpha-2 Code\")\n",
    "salary"
   ]
  },
  {
   "cell_type": "markdown",
   "id": "c71d4930-e91d-437e-b27c-cb0880a5b82a",
   "metadata": {},
   "source": [
    "                                MODELLAZIONE DEI DATI (CAMBIATO TIPO E RINOMINATE COLONNE)"
   ]
  },
  {
   "cell_type": "code",
   "execution_count": 23,
   "id": "1c606a26-e682-4e8d-bda2-83954b3d5fa2",
   "metadata": {
    "scrolled": true
   },
   "outputs": [],
   "source": [
    "salary.rename(columns={\"work_year\": \"Year\"}, inplace=True)\n",
    "salary ['JobCategory'] = salary ['Category'].astype (\"string\")\n",
    "salary ['JobTitle'] = salary ['Job Title'].astype (\"string\")\n",
    "salary ['ExperienceLevel'] = salary ['experience_level'].astype (\"string\")\n",
    "salary.rename(columns={\"remote_ratio\": \"RemoteRatio\"}, inplace=True)\n",
    "salary.rename(columns={\"salary_in_usd\": \"UsdSalary\"}, inplace=True)\n",
    "salary ['CompanyContinent'] = salary ['Continent'].astype (\"string\")\n",
    "salary ['CompanyCountry'] = salary ['Country'].astype (\"string\")\n",
    "salary ['CompanySize'] = salary ['company_size'].astype (\"string\")"
   ]
  },
  {
   "cell_type": "markdown",
   "id": "b77b7c35-d0c8-44ae-92a9-0e9c5587ee46",
   "metadata": {},
   "source": [
    "                                CREAZIONE MASK PER TENERE SOLO LE COLONNE UTILI PER GRAFICI"
   ]
  },
  {
   "cell_type": "code",
   "execution_count": 25,
   "id": "2cba2914-bd93-4022-91c0-24db7075ddac",
   "metadata": {},
   "outputs": [
    {
     "data": {
      "text/html": [
       "<div>\n",
       "<style scoped>\n",
       "    .dataframe tbody tr th:only-of-type {\n",
       "        vertical-align: middle;\n",
       "    }\n",
       "\n",
       "    .dataframe tbody tr th {\n",
       "        vertical-align: top;\n",
       "    }\n",
       "\n",
       "    .dataframe thead th {\n",
       "        text-align: right;\n",
       "    }\n",
       "</style>\n",
       "<table border=\"1\" class=\"dataframe\">\n",
       "  <thead>\n",
       "    <tr style=\"text-align: right;\">\n",
       "      <th></th>\n",
       "      <th>Year</th>\n",
       "      <th>JobCategory</th>\n",
       "      <th>JobTitle</th>\n",
       "      <th>ExperienceLevel</th>\n",
       "      <th>RemoteRatio</th>\n",
       "      <th>UsdSalary</th>\n",
       "      <th>CompanyContinent</th>\n",
       "      <th>CompanyCountry</th>\n",
       "      <th>CompanySize</th>\n",
       "    </tr>\n",
       "  </thead>\n",
       "  <tbody>\n",
       "    <tr>\n",
       "      <th>0</th>\n",
       "      <td>2024</td>\n",
       "      <td>AI</td>\n",
       "      <td>AI Engineer</td>\n",
       "      <td>SE</td>\n",
       "      <td>0</td>\n",
       "      <td>202730</td>\n",
       "      <td>North America</td>\n",
       "      <td>United States</td>\n",
       "      <td>M</td>\n",
       "    </tr>\n",
       "    <tr>\n",
       "      <th>1</th>\n",
       "      <td>2024</td>\n",
       "      <td>AI</td>\n",
       "      <td>AI Engineer</td>\n",
       "      <td>SE</td>\n",
       "      <td>0</td>\n",
       "      <td>92118</td>\n",
       "      <td>North America</td>\n",
       "      <td>United States</td>\n",
       "      <td>M</td>\n",
       "    </tr>\n",
       "    <tr>\n",
       "      <th>2</th>\n",
       "      <td>2024</td>\n",
       "      <td>Data</td>\n",
       "      <td>Data Engineer</td>\n",
       "      <td>SE</td>\n",
       "      <td>0</td>\n",
       "      <td>130500</td>\n",
       "      <td>North America</td>\n",
       "      <td>United States</td>\n",
       "      <td>M</td>\n",
       "    </tr>\n",
       "    <tr>\n",
       "      <th>3</th>\n",
       "      <td>2024</td>\n",
       "      <td>Data</td>\n",
       "      <td>Data Engineer</td>\n",
       "      <td>SE</td>\n",
       "      <td>0</td>\n",
       "      <td>96000</td>\n",
       "      <td>North America</td>\n",
       "      <td>United States</td>\n",
       "      <td>M</td>\n",
       "    </tr>\n",
       "    <tr>\n",
       "      <th>4</th>\n",
       "      <td>2024</td>\n",
       "      <td>AI</td>\n",
       "      <td>Machine Learning Engineer</td>\n",
       "      <td>SE</td>\n",
       "      <td>0</td>\n",
       "      <td>190000</td>\n",
       "      <td>North America</td>\n",
       "      <td>United States</td>\n",
       "      <td>M</td>\n",
       "    </tr>\n",
       "    <tr>\n",
       "      <th>...</th>\n",
       "      <td>...</td>\n",
       "      <td>...</td>\n",
       "      <td>...</td>\n",
       "      <td>...</td>\n",
       "      <td>...</td>\n",
       "      <td>...</td>\n",
       "      <td>...</td>\n",
       "      <td>...</td>\n",
       "      <td>...</td>\n",
       "    </tr>\n",
       "    <tr>\n",
       "      <th>16529</th>\n",
       "      <td>2020</td>\n",
       "      <td>Data</td>\n",
       "      <td>Data Scientist</td>\n",
       "      <td>SE</td>\n",
       "      <td>100</td>\n",
       "      <td>412000</td>\n",
       "      <td>North America</td>\n",
       "      <td>United States</td>\n",
       "      <td>L</td>\n",
       "    </tr>\n",
       "    <tr>\n",
       "      <th>16530</th>\n",
       "      <td>2021</td>\n",
       "      <td>Data</td>\n",
       "      <td>Principal Data Scientist</td>\n",
       "      <td>MI</td>\n",
       "      <td>100</td>\n",
       "      <td>151000</td>\n",
       "      <td>North America</td>\n",
       "      <td>United States</td>\n",
       "      <td>L</td>\n",
       "    </tr>\n",
       "    <tr>\n",
       "      <th>16531</th>\n",
       "      <td>2020</td>\n",
       "      <td>Data</td>\n",
       "      <td>Data Scientist</td>\n",
       "      <td>EN</td>\n",
       "      <td>100</td>\n",
       "      <td>105000</td>\n",
       "      <td>North America</td>\n",
       "      <td>United States</td>\n",
       "      <td>S</td>\n",
       "    </tr>\n",
       "    <tr>\n",
       "      <th>16532</th>\n",
       "      <td>2020</td>\n",
       "      <td>Business Intelligence</td>\n",
       "      <td>Business Data Analyst</td>\n",
       "      <td>EN</td>\n",
       "      <td>100</td>\n",
       "      <td>100000</td>\n",
       "      <td>North America</td>\n",
       "      <td>United States</td>\n",
       "      <td>L</td>\n",
       "    </tr>\n",
       "    <tr>\n",
       "      <th>16533</th>\n",
       "      <td>2021</td>\n",
       "      <td>Data</td>\n",
       "      <td>Data Science Manager</td>\n",
       "      <td>SE</td>\n",
       "      <td>50</td>\n",
       "      <td>94665</td>\n",
       "      <td>Asia</td>\n",
       "      <td>India</td>\n",
       "      <td>L</td>\n",
       "    </tr>\n",
       "  </tbody>\n",
       "</table>\n",
       "<p>16534 rows × 9 columns</p>\n",
       "</div>"
      ],
      "text/plain": [
       "       Year            JobCategory                   JobTitle ExperienceLevel  \\\n",
       "0      2024                     AI                AI Engineer              SE   \n",
       "1      2024                     AI                AI Engineer              SE   \n",
       "2      2024                   Data              Data Engineer              SE   \n",
       "3      2024                   Data              Data Engineer              SE   \n",
       "4      2024                     AI  Machine Learning Engineer              SE   \n",
       "...     ...                    ...                        ...             ...   \n",
       "16529  2020                   Data             Data Scientist              SE   \n",
       "16530  2021                   Data   Principal Data Scientist              MI   \n",
       "16531  2020                   Data             Data Scientist              EN   \n",
       "16532  2020  Business Intelligence      Business Data Analyst              EN   \n",
       "16533  2021                   Data       Data Science Manager              SE   \n",
       "\n",
       "       RemoteRatio  UsdSalary CompanyContinent CompanyCountry CompanySize  \n",
       "0                0     202730    North America  United States           M  \n",
       "1                0      92118    North America  United States           M  \n",
       "2                0     130500    North America  United States           M  \n",
       "3                0      96000    North America  United States           M  \n",
       "4                0     190000    North America  United States           M  \n",
       "...            ...        ...              ...            ...         ...  \n",
       "16529          100     412000    North America  United States           L  \n",
       "16530          100     151000    North America  United States           L  \n",
       "16531          100     105000    North America  United States           S  \n",
       "16532          100     100000    North America  United States           L  \n",
       "16533           50      94665             Asia          India           L  \n",
       "\n",
       "[16534 rows x 9 columns]"
      ]
     },
     "execution_count": 25,
     "metadata": {},
     "output_type": "execute_result"
    }
   ],
   "source": [
    "salMask = salary.loc [:, [\"Year\", \"JobCategory\", \"JobTitle\",  \"ExperienceLevel\", \"RemoteRatio\", \"UsdSalary\", \"CompanyContinent\", \"CompanyCountry\", \"CompanySize\"]]\n",
    "salMask"
   ]
  },
  {
   "cell_type": "markdown",
   "id": "e03e3992-3694-47c7-87ec-d3513d8ec14e",
   "metadata": {},
   "source": [
    "                                    CONTROLLO CORRETTA RIUSCITA OPERAZIONI PRECEDENTI"
   ]
  },
  {
   "cell_type": "code",
   "execution_count": 27,
   "id": "5a9f03b3-95dd-46d6-97dd-a255404869a2",
   "metadata": {
    "scrolled": true
   },
   "outputs": [
    {
     "name": "stdout",
     "output_type": "stream",
     "text": [
      "<class 'pandas.core.frame.DataFrame'>\n",
      "RangeIndex: 16534 entries, 0 to 16533\n",
      "Data columns (total 9 columns):\n",
      " #   Column            Non-Null Count  Dtype \n",
      "---  ------            --------------  ----- \n",
      " 0   Year              16534 non-null  int64 \n",
      " 1   JobCategory       16534 non-null  string\n",
      " 2   JobTitle          16534 non-null  string\n",
      " 3   ExperienceLevel   16534 non-null  string\n",
      " 4   RemoteRatio       16534 non-null  int64 \n",
      " 5   UsdSalary         16534 non-null  int64 \n",
      " 6   CompanyContinent  16534 non-null  string\n",
      " 7   CompanyCountry    16534 non-null  string\n",
      " 8   CompanySize       16534 non-null  string\n",
      "dtypes: int64(3), string(6)\n",
      "memory usage: 1.1 MB\n"
     ]
    }
   ],
   "source": [
    "salMask.info()"
   ]
  },
  {
   "cell_type": "code",
   "execution_count": 28,
   "id": "620f20da-14fa-4612-932d-550b0661ff80",
   "metadata": {},
   "outputs": [
    {
     "data": {
      "text/html": [
       "<div>\n",
       "<style scoped>\n",
       "    .dataframe tbody tr th:only-of-type {\n",
       "        vertical-align: middle;\n",
       "    }\n",
       "\n",
       "    .dataframe tbody tr th {\n",
       "        vertical-align: top;\n",
       "    }\n",
       "\n",
       "    .dataframe thead th {\n",
       "        text-align: right;\n",
       "    }\n",
       "</style>\n",
       "<table border=\"1\" class=\"dataframe\">\n",
       "  <thead>\n",
       "    <tr style=\"text-align: right;\">\n",
       "      <th></th>\n",
       "      <th>Year</th>\n",
       "      <th>RemoteRatio</th>\n",
       "      <th>UsdSalary</th>\n",
       "    </tr>\n",
       "  </thead>\n",
       "  <tbody>\n",
       "    <tr>\n",
       "      <th>count</th>\n",
       "      <td>16534.000000</td>\n",
       "      <td>16534.000000</td>\n",
       "      <td>16534.000000</td>\n",
       "    </tr>\n",
       "    <tr>\n",
       "      <th>mean</th>\n",
       "      <td>2023.226866</td>\n",
       "      <td>32.003750</td>\n",
       "      <td>149686.777973</td>\n",
       "    </tr>\n",
       "    <tr>\n",
       "      <th>std</th>\n",
       "      <td>0.713558</td>\n",
       "      <td>46.245158</td>\n",
       "      <td>68505.293156</td>\n",
       "    </tr>\n",
       "    <tr>\n",
       "      <th>min</th>\n",
       "      <td>2020.000000</td>\n",
       "      <td>0.000000</td>\n",
       "      <td>15000.000000</td>\n",
       "    </tr>\n",
       "    <tr>\n",
       "      <th>25%</th>\n",
       "      <td>2023.000000</td>\n",
       "      <td>0.000000</td>\n",
       "      <td>101125.000000</td>\n",
       "    </tr>\n",
       "    <tr>\n",
       "      <th>50%</th>\n",
       "      <td>2023.000000</td>\n",
       "      <td>0.000000</td>\n",
       "      <td>141300.000000</td>\n",
       "    </tr>\n",
       "    <tr>\n",
       "      <th>75%</th>\n",
       "      <td>2024.000000</td>\n",
       "      <td>100.000000</td>\n",
       "      <td>185900.000000</td>\n",
       "    </tr>\n",
       "    <tr>\n",
       "      <th>max</th>\n",
       "      <td>2024.000000</td>\n",
       "      <td>100.000000</td>\n",
       "      <td>800000.000000</td>\n",
       "    </tr>\n",
       "  </tbody>\n",
       "</table>\n",
       "</div>"
      ],
      "text/plain": [
       "               Year   RemoteRatio      UsdSalary\n",
       "count  16534.000000  16534.000000   16534.000000\n",
       "mean    2023.226866     32.003750  149686.777973\n",
       "std        0.713558     46.245158   68505.293156\n",
       "min     2020.000000      0.000000   15000.000000\n",
       "25%     2023.000000      0.000000  101125.000000\n",
       "50%     2023.000000      0.000000  141300.000000\n",
       "75%     2024.000000    100.000000  185900.000000\n",
       "max     2024.000000    100.000000  800000.000000"
      ]
     },
     "execution_count": 28,
     "metadata": {},
     "output_type": "execute_result"
    }
   ],
   "source": [
    "salMask.describe()"
   ]
  },
  {
   "cell_type": "markdown",
   "id": "b74b1bc4-ea7e-40af-8b65-7b0e0eb35253",
   "metadata": {},
   "source": [
    "                                                    PRIMO GRAFICO\n",
    "                                        \n",
    "                                        HISTPLOT RAFFIGURANTE FREQUENZA DEI SALARI"
   ]
  },
  {
   "cell_type": "code",
   "execution_count": 30,
   "id": "ae044676-cb95-43e4-bbbf-89b6f28993cf",
   "metadata": {},
   "outputs": [
    {
     "name": "stderr",
     "output_type": "stream",
     "text": [
      "C:\\ProgramData\\anaconda3\\Lib\\site-packages\\seaborn\\_oldcore.py:1119: FutureWarning: use_inf_as_na option is deprecated and will be removed in a future version. Convert inf values to NaN before operating instead.\n",
      "  with pd.option_context('mode.use_inf_as_na', True):\n"
     ]
    },
    {
     "data": {
      "image/png": "[encoded data removed]",
      "text/plain": [
       "<Figure size 1000x600 with 1 Axes>"
      ]
     },
     "metadata": {},
     "output_type": "display_data"
    }
   ],
   "source": [
    "plt.figure(figsize=(10, 6))\n",
    "\n",
    "sns.set_style(\"dark\", {\"axes.facecolor\": \"black\", \"axes.edgecolor\": \"purple\", \"grid.color\": \"purple\"})\n",
    "\n",
    "sns.histplot(salMask['UsdSalary'], color='yellow', line_kws={'color': 'purple'})\n",
    "\n",
    "plt.title('Salary Distribution')\n",
    "plt.xlabel('USD Salary')\n",
    "plt.ylabel('Frequency')\n",
    "\n",
    "plt.show()"
   ]
  },
  {
   "cell_type": "markdown",
   "id": "962fe920-45e8-494e-95d9-a6987e73bc4b",
   "metadata": {},
   "source": [
    "                                                    SECONDO GRAFICO\n",
    "                            \n",
    "                            LINEPLOT RAFFIGURANTE SALARIO IN BASE ALLA CATEGORIA LAVORATIVA"
   ]
  },
  {
   "cell_type": "code",
   "execution_count": 32,
   "id": "e1f2b6ce-4d64-4f42-9b7f-c7e8faecd2d9",
   "metadata": {},
   "outputs": [
    {
     "name": "stderr",
     "output_type": "stream",
     "text": [
      "C:\\ProgramData\\anaconda3\\Lib\\site-packages\\seaborn\\_oldcore.py:1119: FutureWarning: use_inf_as_na option is deprecated and will be removed in a future version. Convert inf values to NaN before operating instead.\n",
      "  with pd.option_context('mode.use_inf_as_na', True):\n",
      "C:\\ProgramData\\anaconda3\\Lib\\site-packages\\seaborn\\_oldcore.py:1119: FutureWarning: use_inf_as_na option is deprecated and will be removed in a future version. Convert inf values to NaN before operating instead.\n",
      "  with pd.option_context('mode.use_inf_as_na', True):\n"
     ]
    },
    {
     "data": {
      "image/png": "[encoded data removed]",
      "text/plain": [
       "<Figure size 1200x800 with 1 Axes>"
      ]
     },
     "metadata": {},
     "output_type": "display_data"
    }
   ],
   "source": [
    "plt.figure(figsize=(12, 8))\n",
    "\n",
    "Category = salMask.sort_values('JobCategory')\n",
    "sns.set_style(\"dark\", {\"axes.facecolor\": \"black\", \"axes.edgecolor\": \"purple\", \"grid.color\": \"purple\"})\n",
    "\n",
    "sns.lineplot(x='JobCategory', y='UsdSalary', data=Category, marker='o', color='yellow')\n",
    "\n",
    "plt.title('Salary by Job Category')\n",
    "plt.xlabel('Job Category')\n",
    "plt.ylabel('Salary in USD')\n",
    "\n",
    "plt.xticks(color='black')\n",
    "plt.yticks(color='black')\n",
    "\n",
    "plt.show()"
   ]
  },
  {
   "cell_type": "markdown",
   "id": "4063ff7e-6ca9-4fa6-b28a-ff8f057d932b",
   "metadata": {},
   "source": [
    "                                                        TERZO GRAFICO\n",
    "                                    \n",
    "                                    LINEPLOT RAFFIGURANTE SALARIO IN BASE ALLA SENIORITY"
   ]
  },
  {
   "cell_type": "code",
   "execution_count": 34,
   "id": "0633ec4b-0e2c-42fc-8478-7c7dc570cfba",
   "metadata": {},
   "outputs": [
    {
     "name": "stderr",
     "output_type": "stream",
     "text": [
      "C:\\ProgramData\\anaconda3\\Lib\\site-packages\\seaborn\\_oldcore.py:1119: FutureWarning: use_inf_as_na option is deprecated and will be removed in a future version. Convert inf values to NaN before operating instead.\n",
      "  with pd.option_context('mode.use_inf_as_na', True):\n",
      "C:\\ProgramData\\anaconda3\\Lib\\site-packages\\seaborn\\_oldcore.py:1119: FutureWarning: use_inf_as_na option is deprecated and will be removed in a future version. Convert inf values to NaN before operating instead.\n",
      "  with pd.option_context('mode.use_inf_as_na', True):\n"
     ]
    },
    {
     "data": {
      "image/png": "[encoded data removed]",
      "text/plain": [
       "<Figure size 1000x600 with 1 Axes>"
      ]
     },
     "metadata": {},
     "output_type": "display_data"
    }
   ],
   "source": [
    "plt.figure(figsize=(10, 6))\n",
    "\n",
    "sns.set_style(\"dark\", {\"axes.facecolor\": \"black\", \"axes.edgecolor\": \"purple\", \"grid.color\": \"purple\"})\n",
    "\n",
    "sns.lineplot(x='ExperienceLevel', y='UsdSalary', data=salMask, marker='o', color='yellow')\n",
    "\n",
    "plt.title('Salary by Experience Level')\n",
    "plt.xlabel('Experience Level')\n",
    "plt.ylabel('Salary in USD')\n",
    "\n",
    "plt.show()"
   ]
  }
 ],
 "metadata": {
  "kernelspec": {
   "display_name": "Python 3 (ipykernel)",
   "language": "python",
   "name": "python3"
  },
  "language_info": {
   "codemirror_mode": {
    "name": "ipython",
    "version": 3
   },
   "file_extension": ".py",
   "mimetype": "text/x-python",
   "name": "python",
   "nbconvert_exporter": "python",
   "pygments_lexer": "ipython3",
   "version": "3.11.7"
  }
 },
 "nbformat": 4,
 "nbformat_minor": 5
}
